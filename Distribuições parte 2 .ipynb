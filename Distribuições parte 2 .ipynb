{
 "cells": [
  {
   "cell_type": "code",
   "execution_count": 5,
   "id": "46ccc1d6",
   "metadata": {},
   "outputs": [],
   "source": [
    "import pandas as pd\n",
    "import numpy as np\n",
    "import seaborn as sns"
   ]
  },
  {
   "cell_type": "markdown",
   "id": "a0349493",
   "metadata": {},
   "source": [
    "# Teorema Central do Limite"
   ]
  },
  {
   "cell_type": "markdown",
   "id": "d3ad62b5",
   "metadata": {},
   "source": [
    "- Quando o tamanho da amostra aumenta, a distribuição amostral da sua média aproxima-se cada vez mais de uma distribuição normal "
   ]
  },
  {
   "cell_type": "markdown",
   "id": "aac8565b",
   "metadata": {},
   "source": [
    "Quando se junta diversas distribuições que não são normais, o final tende a ter uma estrutura mais parecido com a distribuição normal"
   ]
  },
  {
   "cell_type": "code",
   "execution_count": 6,
   "id": "7be2faa1",
   "metadata": {},
   "outputs": [
    {
     "data": {
      "text/plain": [
       "157.914"
      ]
     },
     "execution_count": 6,
     "metadata": {},
     "output_type": "execute_result"
    }
   ],
   "source": [
    "alturas = np.random.randint(126, 192, 500) # Gerando 500 alturas entre 126 e 192, de forma aleatoria\n",
    "alturas.mean() # Média das alturas"
   ]
  },
  {
   "cell_type": "code",
   "execution_count": 7,
   "id": "759ed4e9",
   "metadata": {},
   "outputs": [
    {
     "data": {
      "text/plain": [
       "<AxesSubplot:ylabel='Count'>"
      ]
     },
     "execution_count": 7,
     "metadata": {},
     "output_type": "execute_result"
    },
    {
     "data": {
      "image/png": "[encoded data removed]",
      "text/plain": [
       "<Figure size 432x288 with 1 Axes>"
      ]
     },
     "metadata": {
      "needs_background": "light"
     },
     "output_type": "display_data"
    }
   ],
   "source": [
    "sns.histplot(alturas)"
   ]
  },
  {
   "cell_type": "code",
   "execution_count": 8,
   "id": "f85ea8eb",
   "metadata": {},
   "outputs": [
    {
     "data": {
      "text/plain": [
       "(list, 1000)"
      ]
     },
     "execution_count": 8,
     "metadata": {},
     "output_type": "execute_result"
    }
   ],
   "source": [
    "medias = [np.mean(np.random.randint(126,192,500)) for _ in range(1000)] # Criando uma lista, com a média de 500 alturas, sendo 1000 iterações, logo vais se ter 1000 médias\n",
    "type(medias), len(medias)"
   ]
  },
  {
   "cell_type": "code",
   "execution_count": 9,
   "id": "6160e364",
   "metadata": {},
   "outputs": [
    {
     "name": "stderr",
     "output_type": "stream",
     "text": [
      "C:\\Users\\Francisco\\anaconda3\\lib\\site-packages\\seaborn\\distributions.py:2557: FutureWarning: `distplot` is a deprecated function and will be removed in a future version. Please adapt your code to use either `displot` (a figure-level function with similar flexibility) or `histplot` (an axes-level function for histograms).\n",
      "  warnings.warn(msg, FutureWarning)\n"
     ]
    },
    {
     "data": {
      "text/plain": [
       "<AxesSubplot:ylabel='Density'>"
      ]
     },
     "execution_count": 9,
     "metadata": {},
     "output_type": "execute_result"
    },
    {
     "data": {
      "image/png": "[encoded data removed]",
      "text/plain": [
       "<Figure size 432x288 with 1 Axes>"
      ]
     },
     "metadata": {
      "needs_background": "light"
     },
     "output_type": "display_data"
    }
   ],
   "source": [
    "sns.distplot(medias)"
   ]
  },
  {
   "cell_type": "markdown",
   "id": "f3bd2e15",
   "metadata": {},
   "source": [
    "Provando que: Quando se junta diversas distribuições que não são normais, o final tende a ter uma estrutura mais parecido com a distribuição normal"
   ]
  },
  {
   "cell_type": "markdown",
   "id": "7a7abe75",
   "metadata": {},
   "source": [
    "# Distribuição Gama"
   ]
  },
  {
   "cell_type": "markdown",
   "id": "ea4b1bd9",
   "metadata": {},
   "source": [
    "- Distribuição Geral com valores assimétricos à direita\n",
    "- Análise de tempo de vida de produtos\n",
    "- Inadimplência com valores agregados\n",
    "- Quantidade de chuva acumulada em um reservatório\n",
    "- Tempo de reação de um motorista de acordo com a idade "
   ]
  },
  {
   "cell_type": "code",
   "execution_count": 10,
   "id": "30a97b0c",
   "metadata": {},
   "outputs": [],
   "source": [
    "from scipy.stats import gamma "
   ]
  },
  {
   "cell_type": "code",
   "execution_count": 11,
   "id": "dd75c5ba",
   "metadata": {},
   "outputs": [],
   "source": [
    "dados_gama = gamma.rvs(a=1, size=1000) # Gerando a distribuição gamma, size é o tamanho de dados  e o a=1 é quando o ponto de decaimento começa"
   ]
  },
  {
   "cell_type": "code",
   "execution_count": 12,
   "id": "0c4040de",
   "metadata": {},
   "outputs": [
    {
     "name": "stderr",
     "output_type": "stream",
     "text": [
      "C:\\Users\\Francisco\\anaconda3\\lib\\site-packages\\seaborn\\distributions.py:2557: FutureWarning: `distplot` is a deprecated function and will be removed in a future version. Please adapt your code to use either `displot` (a figure-level function with similar flexibility) or `histplot` (an axes-level function for histograms).\n",
      "  warnings.warn(msg, FutureWarning)\n"
     ]
    },
    {
     "data": {
      "text/plain": [
       "<AxesSubplot:ylabel='Density'>"
      ]
     },
     "execution_count": 12,
     "metadata": {},
     "output_type": "execute_result"
    },
    {
     "data": {
      "image/png": "[encoded data removed]",
      "text/plain": [
       "<Figure size 432x288 with 1 Axes>"
      ]
     },
     "metadata": {
      "needs_background": "light"
     },
     "output_type": "display_data"
    }
   ],
   "source": [
    "sns.distplot(dados_gama)"
   ]
  },
  {
   "cell_type": "markdown",
   "id": "18ade8d5",
   "metadata": {},
   "source": [
    "Esse tipo de distribuição é muito utilizado para análise de tempo de vida dos produtos. Por exemplo, o tempo de vida do produto começa alto e com o passar dos anos vai decaindo."
   ]
  },
  {
   "cell_type": "markdown",
   "id": "20553614",
   "metadata": {},
   "source": [
    "Essas distribuições de frequência é utilizada para probabilidade de cálculo de inferência. A Inferência Estatística consiste de procedimentos para fazer generalizações sobre as características de uma população a partir da informação contida na amostra. Ou seja, você vai buscar as características dos dados."
   ]
  },
  {
   "cell_type": "code",
   "execution_count": 13,
   "id": "0a1846ba",
   "metadata": {},
   "outputs": [
    {
     "data": {
      "text/plain": [
       "(1.9825926576271036e-05, 7.391496947069254)"
      ]
     },
     "execution_count": 13,
     "metadata": {},
     "output_type": "execute_result"
    }
   ],
   "source": [
    "min(dados_gama), max(dados_gama)"
   ]
  },
  {
   "cell_type": "markdown",
   "id": "1833eedb",
   "metadata": {},
   "source": [
    "# Distribuição Exponencial"
   ]
  },
  {
   "cell_type": "markdown",
   "id": "f234bd13",
   "metadata": {},
   "source": [
    "- É um tipo de distribuição gama\n",
    "- Tempo de vida de certos produtos e materiais\n",
    "- Tempo de vida de óleos isolantes e dielétricos, entre outros..."
   ]
  },
  {
   "cell_type": "code",
   "execution_count": 14,
   "id": "640448c8",
   "metadata": {},
   "outputs": [],
   "source": [
    "from scipy.stats import expon"
   ]
  },
  {
   "cell_type": "code",
   "execution_count": 15,
   "id": "76b56fa4",
   "metadata": {},
   "outputs": [],
   "source": [
    "dados_exponencial = expon.rvs(size = 1000)"
   ]
  },
  {
   "cell_type": "code",
   "execution_count": 16,
   "id": "0d580d65",
   "metadata": {},
   "outputs": [
    {
     "name": "stderr",
     "output_type": "stream",
     "text": [
      "C:\\Users\\Francisco\\anaconda3\\lib\\site-packages\\seaborn\\distributions.py:2557: FutureWarning: `distplot` is a deprecated function and will be removed in a future version. Please adapt your code to use either `displot` (a figure-level function with similar flexibility) or `histplot` (an axes-level function for histograms).\n",
      "  warnings.warn(msg, FutureWarning)\n"
     ]
    },
    {
     "data": {
      "text/plain": [
       "<AxesSubplot:ylabel='Density'>"
      ]
     },
     "execution_count": 16,
     "metadata": {},
     "output_type": "execute_result"
    },
    {
     "data": {
      "image/png": "[encoded data removed]",
      "text/plain": [
       "<Figure size 432x288 with 1 Axes>"
      ]
     },
     "metadata": {
      "needs_background": "light"
     },
     "output_type": "display_data"
    }
   ],
   "source": [
    "sns.distplot(dados_exponencial)"
   ]
  },
  {
   "cell_type": "markdown",
   "id": "b7f1f30a",
   "metadata": {},
   "source": [
    "É parecido com a distribuição gamma, porém, o da distribuição exponencial tem o valor do pico. Entretanto, pode ser considerado como um tipo da distribuição gamma."
   ]
  },
  {
   "cell_type": "code",
   "execution_count": 17,
   "id": "4aebd85a",
   "metadata": {},
   "outputs": [
    {
     "data": {
      "text/plain": [
       "(0.0007434832615268346, 6.147100072329678)"
      ]
     },
     "execution_count": 17,
     "metadata": {},
     "output_type": "execute_result"
    }
   ],
   "source": [
    "min(dados_exponencial), max(dados_exponencial)"
   ]
  },
  {
   "cell_type": "markdown",
   "id": "ee927bb2",
   "metadata": {},
   "source": [
    "# Distribuição Uniforme"
   ]
  },
  {
   "cell_type": "markdown",
   "id": "f60b07a7",
   "metadata": {},
   "source": [
    "- Os números da distribuição possuem a mesma probabilidade\n",
    "- Probabilidade de peças com defeitos em um lote com determinadas quantidade de peças\n",
    "- Geração de números aleatórios em linguagens de programação"
   ]
  },
  {
   "cell_type": "code",
   "execution_count": 18,
   "id": "e8d7cd2c",
   "metadata": {},
   "outputs": [],
   "source": [
    "from scipy.stats import uniform"
   ]
  },
  {
   "cell_type": "code",
   "execution_count": 20,
   "id": "0a1e70a1",
   "metadata": {},
   "outputs": [],
   "source": [
    "dados_uniform = uniform.rvs(size=1000) # Gerando a distribuição"
   ]
  },
  {
   "cell_type": "code",
   "execution_count": 25,
   "id": "1f9a9aed",
   "metadata": {},
   "outputs": [
    {
     "name": "stderr",
     "output_type": "stream",
     "text": [
      "C:\\Users\\Francisco\\anaconda3\\lib\\site-packages\\seaborn\\distributions.py:2557: FutureWarning: `distplot` is a deprecated function and will be removed in a future version. Please adapt your code to use either `displot` (a figure-level function with similar flexibility) or `histplot` (an axes-level function for histograms).\n",
      "  warnings.warn(msg, FutureWarning)\n"
     ]
    },
    {
     "data": {
      "text/plain": [
       "<AxesSubplot:ylabel='Density'>"
      ]
     },
     "execution_count": 25,
     "metadata": {},
     "output_type": "execute_result"
    },
    {
     "data": {
      "image/png": "[encoded data removed]",
      "text/plain": [
       "<Figure size 432x288 with 1 Axes>"
      ]
     },
     "metadata": {
      "needs_background": "light"
     },
     "output_type": "display_data"
    }
   ],
   "source": [
    "sns.distplot(dados_uniform, bins = 10) # Observando a distribuição dos dados, parece ser um pouco quadrada"
   ]
  },
  {
   "cell_type": "code",
   "execution_count": 23,
   "id": "378f9a5e",
   "metadata": {},
   "outputs": [
    {
     "data": {
      "text/plain": [
       "(0.0008962524848499243, 0.9989643522366775)"
      ]
     },
     "execution_count": 23,
     "metadata": {},
     "output_type": "execute_result"
    }
   ],
   "source": [
    "min(dados_uniform), max(dados_uniform)"
   ]
  },
  {
   "cell_type": "code",
   "execution_count": 27,
   "id": "d9dee239",
   "metadata": {},
   "outputs": [
    {
     "data": {
      "text/plain": [
       "(array([8.96252485e-04, 1.87192780e-03, 3.28540377e-03, 4.88265986e-03,\n",
       "        6.80822653e-03, 8.18862349e-03, 1.08012933e-02, 1.12931666e-02,\n",
       "        1.21484836e-02, 1.36975921e-02, 1.38433132e-02, 1.38959600e-02,\n",
       "        1.82382580e-02, 1.95435606e-02, 1.98900199e-02, 2.18903169e-02,\n",
       "        2.31041392e-02, 2.42750253e-02, 2.49748844e-02, 2.60478410e-02,\n",
       "        2.76982138e-02, 2.87460048e-02, 2.93929965e-02, 3.03215536e-02,\n",
       "        3.18444003e-02, 3.37577148e-02, 3.45614634e-02, 3.63812928e-02,\n",
       "        3.64949055e-02, 3.72765710e-02, 3.85704507e-02, 3.91413652e-02,\n",
       "        4.31647742e-02, 4.33590228e-02, 4.54509470e-02, 4.62043223e-02,\n",
       "        4.76501697e-02, 4.79352443e-02, 4.98598703e-02, 4.99460875e-02,\n",
       "        5.16186338e-02, 5.16984164e-02, 5.41365115e-02, 5.45704080e-02,\n",
       "        5.46938960e-02, 5.66194328e-02, 5.75061324e-02, 5.92670120e-02,\n",
       "        5.92770930e-02, 6.35522796e-02, 6.38308286e-02, 6.47423996e-02,\n",
       "        6.53428186e-02, 6.70566159e-02, 6.85934523e-02, 6.87314917e-02,\n",
       "        7.08661850e-02, 7.09879068e-02, 7.11222667e-02, 7.17590545e-02,\n",
       "        7.23688836e-02, 7.37872464e-02, 7.39164634e-02, 7.42214130e-02,\n",
       "        7.45398827e-02, 7.74272581e-02, 7.81060891e-02, 7.91213721e-02,\n",
       "        8.06083157e-02, 8.13114233e-02, 8.15679220e-02, 8.23326730e-02,\n",
       "        8.27730930e-02, 8.52191998e-02, 8.63308781e-02, 8.68784890e-02,\n",
       "        9.23065288e-02, 9.52782757e-02, 9.55057372e-02, 9.63920803e-02,\n",
       "        9.83178370e-02, 9.86668087e-02, 9.91676312e-02, 9.93657904e-02,\n",
       "        9.94228012e-02, 1.01626649e-01, 1.01675552e-01, 1.02640805e-01,\n",
       "        1.02780741e-01, 1.03147790e-01, 1.03575882e-01, 1.03816199e-01,\n",
       "        1.03934008e-01, 1.06592309e-01, 1.06904393e-01, 1.07067777e-01,\n",
       "        1.07164447e-01, 1.08025080e-01, 1.09524699e-01, 1.09765458e-01,\n",
       "        1.11133707e-01, 1.11625335e-01, 1.12432813e-01, 1.15000252e-01,\n",
       "        1.15972122e-01, 1.16182735e-01, 1.17617463e-01, 1.17683730e-01,\n",
       "        1.17917563e-01, 1.18091972e-01, 1.19189305e-01, 1.19881557e-01,\n",
       "        1.20134732e-01, 1.21323675e-01, 1.21989003e-01, 1.23439738e-01,\n",
       "        1.24501535e-01, 1.27081122e-01, 1.29847479e-01, 1.33562772e-01,\n",
       "        1.34836942e-01, 1.35332741e-01, 1.37382767e-01, 1.37748460e-01,\n",
       "        1.37931294e-01, 1.41905513e-01, 1.42448510e-01, 1.42589599e-01,\n",
       "        1.42954238e-01, 1.43013466e-01, 1.43234169e-01, 1.43672531e-01,\n",
       "        1.45670564e-01, 1.46364853e-01, 1.46432821e-01, 1.47249166e-01,\n",
       "        1.48482892e-01, 1.49396444e-01, 1.49695970e-01, 1.50221875e-01,\n",
       "        1.51037326e-01, 1.53062560e-01, 1.54511781e-01, 1.55428110e-01,\n",
       "        1.55467377e-01, 1.56056553e-01, 1.56761418e-01, 1.56938873e-01,\n",
       "        1.57539554e-01, 1.58338026e-01, 1.58453343e-01, 1.58834447e-01,\n",
       "        1.59144416e-01, 1.59369051e-01, 1.59784923e-01, 1.59896192e-01,\n",
       "        1.62044828e-01, 1.62614898e-01, 1.63808960e-01, 1.64908007e-01,\n",
       "        1.65011219e-01, 1.66751085e-01, 1.68100977e-01, 1.68551572e-01,\n",
       "        1.69915644e-01, 1.70303040e-01, 1.71514693e-01, 1.71645197e-01,\n",
       "        1.72236844e-01, 1.73256795e-01, 1.77617821e-01, 1.79839652e-01,\n",
       "        1.80463578e-01, 1.80956899e-01, 1.81016978e-01, 1.83034574e-01,\n",
       "        1.83445384e-01, 1.84668716e-01, 1.85042877e-01, 1.86476436e-01,\n",
       "        1.88829673e-01, 1.89050792e-01, 1.89272851e-01, 1.90050187e-01,\n",
       "        1.91198505e-01, 1.92038419e-01, 1.92928389e-01, 1.93075307e-01,\n",
       "        1.93600704e-01, 1.93853691e-01, 1.93936853e-01, 1.94317108e-01,\n",
       "        1.96182966e-01, 1.96226206e-01, 1.97143493e-01, 1.98415233e-01,\n",
       "        1.99109604e-01, 2.01227313e-01, 2.04938706e-01, 2.04991412e-01,\n",
       "        2.06750443e-01, 2.06794131e-01, 2.07173721e-01, 2.07267730e-01,\n",
       "        2.07859337e-01, 2.08659981e-01, 2.10053271e-01, 2.11033913e-01,\n",
       "        2.11738612e-01, 2.12828604e-01, 2.12988616e-01, 2.18551140e-01,\n",
       "        2.19044446e-01, 2.19465514e-01, 2.24693415e-01, 2.25794111e-01,\n",
       "        2.28315341e-01, 2.28848392e-01, 2.31668891e-01, 2.32328598e-01,\n",
       "        2.32483151e-01, 2.33023001e-01, 2.33974184e-01, 2.34500034e-01,\n",
       "        2.34856890e-01, 2.35004181e-01, 2.37266928e-01, 2.39363782e-01,\n",
       "        2.39614565e-01, 2.39740680e-01, 2.40789551e-01, 2.42395963e-01,\n",
       "        2.43077250e-01, 2.43711054e-01, 2.45192712e-01, 2.45442201e-01,\n",
       "        2.45525922e-01, 2.45548010e-01, 2.45998237e-01, 2.46010388e-01,\n",
       "        2.47787825e-01, 2.47909790e-01, 2.48210350e-01, 2.48269656e-01,\n",
       "        2.51722059e-01, 2.53369977e-01, 2.55035800e-01, 2.56673042e-01,\n",
       "        2.59014881e-01, 2.61353079e-01, 2.61824429e-01, 2.62950465e-01,\n",
       "        2.63560573e-01, 2.64801481e-01, 2.66272784e-01, 2.67664248e-01,\n",
       "        2.68327792e-01, 2.69287964e-01, 2.69896171e-01, 2.71190671e-01,\n",
       "        2.71363030e-01, 2.71497415e-01, 2.71977683e-01, 2.73852695e-01,\n",
       "        2.75175205e-01, 2.76405606e-01, 2.78410227e-01, 2.80007815e-01,\n",
       "        2.82863415e-01, 2.84977574e-01, 2.85308648e-01, 2.85847776e-01,\n",
       "        2.85928236e-01, 2.86867423e-01, 2.86927692e-01, 2.87241326e-01,\n",
       "        2.87310844e-01, 2.87600361e-01, 2.87656710e-01, 2.88404066e-01,\n",
       "        2.89381690e-01, 2.89749532e-01, 2.89773996e-01, 2.90752315e-01,\n",
       "        2.91194100e-01, 2.91285500e-01, 2.92175493e-01, 2.93219488e-01,\n",
       "        2.94367529e-01, 2.94814969e-01, 2.95158318e-01, 2.95610906e-01,\n",
       "        2.95619145e-01, 2.96345362e-01, 2.98474313e-01, 2.98894277e-01,\n",
       "        3.02309105e-01, 3.04017186e-01, 3.04156424e-01, 3.04286807e-01,\n",
       "        3.06373415e-01, 3.06496423e-01, 3.06847064e-01, 3.07152334e-01,\n",
       "        3.07519481e-01, 3.08075895e-01, 3.08296775e-01, 3.09661286e-01,\n",
       "        3.11943214e-01, 3.13552264e-01, 3.13572619e-01, 3.14392522e-01,\n",
       "        3.15638941e-01, 3.16903071e-01, 3.16950304e-01, 3.17804941e-01,\n",
       "        3.18772504e-01, 3.19204333e-01, 3.19221587e-01, 3.20240721e-01,\n",
       "        3.20751537e-01, 3.22188220e-01, 3.22704710e-01, 3.23763514e-01,\n",
       "        3.25682064e-01, 3.25976718e-01, 3.27342373e-01, 3.28204500e-01,\n",
       "        3.28963951e-01, 3.29021157e-01, 3.30568243e-01, 3.31726688e-01,\n",
       "        3.34854179e-01, 3.35647363e-01, 3.37075930e-01, 3.37470141e-01,\n",
       "        3.37509749e-01, 3.37688376e-01, 3.38538280e-01, 3.38929878e-01,\n",
       "        3.41270723e-01, 3.41999626e-01, 3.42193500e-01, 3.42431024e-01,\n",
       "        3.43153027e-01, 3.44003372e-01, 3.44749519e-01, 3.45403024e-01,\n",
       "        3.45784561e-01, 3.46714358e-01, 3.49373697e-01, 3.49538098e-01,\n",
       "        3.49737590e-01, 3.50146462e-01, 3.53540984e-01, 3.54758986e-01,\n",
       "        3.57211209e-01, 3.57690238e-01, 3.59929528e-01, 3.61054222e-01,\n",
       "        3.62890340e-01, 3.62966871e-01, 3.63607808e-01, 3.63812623e-01,\n",
       "        3.64377614e-01, 3.65837041e-01, 3.70377738e-01, 3.75441071e-01,\n",
       "        3.75589876e-01, 3.76005188e-01, 3.76034036e-01, 3.76404575e-01,\n",
       "        3.76849035e-01, 3.77101159e-01, 3.77744615e-01, 3.82838652e-01,\n",
       "        3.83551985e-01, 3.84354645e-01, 3.85033698e-01, 3.85458110e-01,\n",
       "        3.86278828e-01, 3.87105634e-01, 3.87825093e-01, 3.88202050e-01,\n",
       "        3.88496020e-01, 3.88762425e-01, 3.89118483e-01, 3.89853280e-01,\n",
       "        3.89885763e-01, 3.89982307e-01, 3.90946658e-01, 3.92937901e-01,\n",
       "        3.94934851e-01, 3.96026064e-01, 3.96886957e-01, 3.97073682e-01,\n",
       "        3.97249626e-01, 3.98180927e-01, 3.98466193e-01, 3.98477099e-01,\n",
       "        3.99241747e-01, 4.00465850e-01, 4.00681374e-01, 4.00727125e-01,\n",
       "        4.01367052e-01, 4.01611032e-01, 4.02725336e-01, 4.04482913e-01,\n",
       "        4.05171468e-01, 4.05243576e-01, 4.05832691e-01, 4.07615566e-01,\n",
       "        4.09341529e-01, 4.09460945e-01, 4.10895308e-01, 4.11244595e-01,\n",
       "        4.11528498e-01, 4.11827615e-01, 4.14191885e-01, 4.14549734e-01,\n",
       "        4.14604700e-01, 4.15382472e-01, 4.16288804e-01, 4.18484009e-01,\n",
       "        4.18579900e-01, 4.20628667e-01, 4.21656830e-01, 4.22430641e-01,\n",
       "        4.23512067e-01, 4.24650062e-01, 4.24907986e-01, 4.27005665e-01,\n",
       "        4.27481392e-01, 4.27842733e-01, 4.28451207e-01, 4.30696637e-01,\n",
       "        4.32142190e-01, 4.33146444e-01, 4.34646347e-01, 4.34687859e-01,\n",
       "        4.35969647e-01, 4.36379830e-01, 4.37906843e-01, 4.38931732e-01,\n",
       "        4.39028455e-01, 4.39719579e-01, 4.40826776e-01, 4.41169598e-01,\n",
       "        4.42003011e-01, 4.42045691e-01, 4.44218265e-01, 4.44310032e-01,\n",
       "        4.45571899e-01, 4.46774907e-01, 4.48802684e-01, 4.50627681e-01,\n",
       "        4.51217211e-01, 4.52333494e-01, 4.55002464e-01, 4.55434423e-01,\n",
       "        4.55912666e-01, 4.56257514e-01, 4.57015616e-01, 4.57178144e-01,\n",
       "        4.58337458e-01, 4.58775234e-01, 4.59022308e-01, 4.59285403e-01,\n",
       "        4.61070761e-01, 4.62641877e-01, 4.63996890e-01, 4.64458572e-01,\n",
       "        4.64910184e-01, 4.65789209e-01, 4.67017659e-01, 4.67470505e-01,\n",
       "        4.69265463e-01, 4.69559522e-01, 4.70861956e-01, 4.71439173e-01,\n",
       "        4.71746580e-01, 4.72195842e-01, 4.73221930e-01, 4.74479277e-01,\n",
       "        4.74852426e-01, 4.75569158e-01, 4.75969024e-01, 4.79101236e-01,\n",
       "        4.83890567e-01, 4.85547344e-01, 4.86633440e-01, 4.87241377e-01,\n",
       "        4.93612150e-01, 4.94314883e-01, 4.94815936e-01, 4.95135003e-01,\n",
       "        4.96976958e-01, 4.99099970e-01, 5.00668905e-01, 5.01195267e-01,\n",
       "        5.03208045e-01, 5.03364610e-01, 5.05650158e-01, 5.05949085e-01,\n",
       "        5.06021317e-01, 5.08295478e-01, 5.08948046e-01, 5.09629586e-01,\n",
       "        5.11122067e-01, 5.11125788e-01, 5.12055262e-01, 5.12182993e-01,\n",
       "        5.12608885e-01, 5.13807766e-01, 5.17882361e-01, 5.18919036e-01,\n",
       "        5.19829233e-01, 5.20198798e-01, 5.20520880e-01, 5.23254313e-01,\n",
       "        5.23927343e-01, 5.24594673e-01, 5.25103251e-01, 5.25653974e-01,\n",
       "        5.26345073e-01, 5.26439499e-01, 5.28305768e-01, 5.29295740e-01,\n",
       "        5.30505173e-01, 5.30805488e-01, 5.32456488e-01, 5.32484923e-01,\n",
       "        5.32738457e-01, 5.33410689e-01, 5.34698108e-01, 5.34746058e-01,\n",
       "        5.34856616e-01, 5.35160847e-01, 5.35525508e-01, 5.40900694e-01,\n",
       "        5.41546200e-01, 5.42596274e-01, 5.43653530e-01, 5.43662552e-01,\n",
       "        5.44697578e-01, 5.45703465e-01, 5.47279528e-01, 5.47812514e-01,\n",
       "        5.49430949e-01, 5.49793150e-01, 5.49879470e-01, 5.50061598e-01,\n",
       "        5.50556529e-01, 5.51521363e-01, 5.52532226e-01, 5.52964507e-01,\n",
       "        5.56270657e-01, 5.56316435e-01, 5.56752463e-01, 5.57905606e-01,\n",
       "        5.58085626e-01, 5.59832283e-01, 5.60473216e-01, 5.61302132e-01,\n",
       "        5.61723413e-01, 5.62132780e-01, 5.62671775e-01, 5.63513004e-01,\n",
       "        5.66415064e-01, 5.66523989e-01, 5.68701036e-01, 5.69457126e-01,\n",
       "        5.70883845e-01, 5.75125362e-01, 5.75492908e-01, 5.76222126e-01,\n",
       "        5.76512097e-01, 5.77890161e-01, 5.78154912e-01, 5.78854248e-01,\n",
       "        5.79291133e-01, 5.80465367e-01, 5.80573189e-01, 5.81823526e-01,\n",
       "        5.81913701e-01, 5.82277233e-01, 5.83094450e-01, 5.84145368e-01,\n",
       "        5.86198420e-01, 5.86538867e-01, 5.87895753e-01, 5.88936693e-01,\n",
       "        5.89695541e-01, 5.89994589e-01, 5.91028926e-01, 5.93290495e-01,\n",
       "        5.93364514e-01, 5.94127065e-01, 5.96425473e-01, 5.97115526e-01,\n",
       "        5.99498853e-01, 6.00052345e-01, 6.00736502e-01, 6.04384809e-01,\n",
       "        6.05286640e-01, 6.06214738e-01, 6.06823675e-01, 6.07162917e-01,\n",
       "        6.09418805e-01, 6.11606418e-01, 6.11950894e-01, 6.13742438e-01,\n",
       "        6.15890713e-01, 6.16301920e-01, 6.18270234e-01, 6.20891376e-01,\n",
       "        6.21065337e-01, 6.23200676e-01, 6.25271065e-01, 6.25930327e-01,\n",
       "        6.28027551e-01, 6.28305843e-01, 6.28402277e-01, 6.30084550e-01,\n",
       "        6.30932705e-01, 6.32051165e-01, 6.32277874e-01, 6.32789589e-01,\n",
       "        6.33616366e-01, 6.34428803e-01, 6.35203661e-01, 6.36899825e-01,\n",
       "        6.37038545e-01, 6.37059706e-01, 6.38495701e-01, 6.39113975e-01,\n",
       "        6.39354229e-01, 6.43584092e-01, 6.44411607e-01, 6.44813745e-01,\n",
       "        6.46349300e-01, 6.46996878e-01, 6.50152293e-01, 6.51061351e-01,\n",
       "        6.51062804e-01, 6.52772500e-01, 6.53557068e-01, 6.54116564e-01,\n",
       "        6.55164045e-01, 6.57793720e-01, 6.59431283e-01, 6.60589538e-01,\n",
       "        6.62826589e-01, 6.63707931e-01, 6.64377806e-01, 6.66005362e-01,\n",
       "        6.66615231e-01, 6.67126818e-01, 6.67372614e-01, 6.67599234e-01,\n",
       "        6.69747253e-01, 6.71025272e-01, 6.72845836e-01, 6.74083336e-01,\n",
       "        6.74703662e-01, 6.76385660e-01, 6.77169819e-01, 6.79074196e-01,\n",
       "        6.80118049e-01, 6.80619265e-01, 6.82602351e-01, 6.83613968e-01,\n",
       "        6.85157796e-01, 6.85527384e-01, 6.86208407e-01, 6.86419525e-01,\n",
       "        6.86668369e-01, 6.87993282e-01, 6.88958175e-01, 6.89667343e-01,\n",
       "        6.89976109e-01, 6.90551456e-01, 6.94192217e-01, 6.94437954e-01,\n",
       "        6.95541740e-01, 6.96951512e-01, 6.97496190e-01, 6.98078153e-01,\n",
       "        6.98082474e-01, 6.99588762e-01, 7.01434482e-01, 7.01571038e-01,\n",
       "        7.02170027e-01, 7.03242946e-01, 7.04103733e-01, 7.04348174e-01,\n",
       "        7.05582003e-01, 7.06798066e-01, 7.07142033e-01, 7.09600759e-01,\n",
       "        7.10790795e-01, 7.11313519e-01, 7.11594751e-01, 7.12960077e-01,\n",
       "        7.14038612e-01, 7.16587911e-01, 7.17036451e-01, 7.19702369e-01,\n",
       "        7.20277077e-01, 7.22381227e-01, 7.23851853e-01, 7.26183937e-01,\n",
       "        7.26340915e-01, 7.29264460e-01, 7.29641670e-01, 7.31485073e-01,\n",
       "        7.31492237e-01, 7.31775998e-01, 7.32512525e-01, 7.34893768e-01,\n",
       "        7.35982690e-01, 7.38065278e-01, 7.38172567e-01, 7.39736233e-01,\n",
       "        7.40710508e-01, 7.41056492e-01, 7.41799332e-01, 7.43945054e-01,\n",
       "        7.44198780e-01, 7.44548619e-01, 7.47443081e-01, 7.48354056e-01,\n",
       "        7.52103019e-01, 7.52330604e-01, 7.52489440e-01, 7.53861729e-01,\n",
       "        7.55778576e-01, 7.56914687e-01, 7.57533528e-01, 7.58407073e-01,\n",
       "        7.59315109e-01, 7.60881182e-01, 7.61327370e-01, 7.61347578e-01,\n",
       "        7.62120655e-01, 7.62793729e-01, 7.63361822e-01, 7.63863763e-01,\n",
       "        7.67273893e-01, 7.69572587e-01, 7.69803630e-01, 7.71858596e-01,\n",
       "        7.73440321e-01, 7.76060338e-01, 7.77674579e-01, 7.78177181e-01,\n",
       "        7.80512423e-01, 7.80993705e-01, 7.81001484e-01, 7.82269943e-01,\n",
       "        7.83085329e-01, 7.83479256e-01, 7.86451559e-01, 7.89031282e-01,\n",
       "        7.89087534e-01, 7.89170211e-01, 7.89431841e-01, 7.89622542e-01,\n",
       "        7.92355167e-01, 7.92983758e-01, 7.94505964e-01, 7.96194911e-01,\n",
       "        7.97060667e-01, 7.97153661e-01, 7.97513427e-01, 7.97554396e-01,\n",
       "        7.99363718e-01, 7.99770191e-01, 7.99955926e-01, 8.01563323e-01,\n",
       "        8.01664867e-01, 8.02152920e-01, 8.02545826e-01, 8.03881496e-01,\n",
       "        8.04712157e-01, 8.06732709e-01, 8.06828419e-01, 8.07153929e-01,\n",
       "        8.07254285e-01, 8.08366701e-01, 8.09208364e-01, 8.09523683e-01,\n",
       "        8.09699648e-01, 8.10811297e-01, 8.13083116e-01, 8.13125585e-01,\n",
       "        8.13770315e-01, 8.15341010e-01, 8.15583385e-01, 8.16912205e-01,\n",
       "        8.17687435e-01, 8.17882832e-01, 8.17896361e-01, 8.19865082e-01,\n",
       "        8.19946924e-01, 8.20243500e-01, 8.20692393e-01, 8.20697447e-01,\n",
       "        8.23536496e-01, 8.23679409e-01, 8.23711193e-01, 8.24078068e-01,\n",
       "        8.24721255e-01, 8.24909567e-01, 8.25937819e-01, 8.27219345e-01,\n",
       "        8.28418098e-01, 8.28551549e-01, 8.32396789e-01, 8.32608738e-01,\n",
       "        8.33245241e-01, 8.37173508e-01, 8.38194356e-01, 8.38707285e-01,\n",
       "        8.38770497e-01, 8.39153045e-01, 8.39210163e-01, 8.40623978e-01,\n",
       "        8.41211040e-01, 8.42060195e-01, 8.42852915e-01, 8.43152716e-01,\n",
       "        8.43840149e-01, 8.45649919e-01, 8.48126616e-01, 8.48479418e-01,\n",
       "        8.49213278e-01, 8.49279543e-01, 8.50518199e-01, 8.51339376e-01,\n",
       "        8.52314940e-01, 8.53231360e-01, 8.54051322e-01, 8.56708761e-01,\n",
       "        8.56988109e-01, 8.58334144e-01, 8.60159745e-01, 8.60742499e-01,\n",
       "        8.61173644e-01, 8.61563820e-01, 8.61614263e-01, 8.64284222e-01,\n",
       "        8.64989219e-01, 8.65066412e-01, 8.65687596e-01, 8.67883802e-01,\n",
       "        8.68837269e-01, 8.68907847e-01, 8.70539573e-01, 8.70685308e-01,\n",
       "        8.73450913e-01, 8.76289545e-01, 8.76363798e-01, 8.77178058e-01,\n",
       "        8.78593593e-01, 8.79375853e-01, 8.81393821e-01, 8.81515086e-01,\n",
       "        8.81738300e-01, 8.82016636e-01, 8.82560815e-01, 8.84327202e-01,\n",
       "        8.85171678e-01, 8.85472185e-01, 8.85651027e-01, 8.92899009e-01,\n",
       "        8.93433097e-01, 8.94421445e-01, 8.94999546e-01, 8.95937903e-01,\n",
       "        8.96457280e-01, 8.96519120e-01, 8.97138940e-01, 8.97622979e-01,\n",
       "        8.98017579e-01, 8.98105998e-01, 8.98951725e-01, 9.00135413e-01,\n",
       "        9.01676776e-01, 9.02476966e-01, 9.02755617e-01, 9.04181716e-01,\n",
       "        9.04250232e-01, 9.04708483e-01, 9.05082886e-01, 9.05768409e-01,\n",
       "        9.05915481e-01, 9.06416282e-01, 9.06495828e-01, 9.07197083e-01,\n",
       "        9.07508689e-01, 9.07878740e-01, 9.09074601e-01, 9.09858580e-01,\n",
       "        9.11322215e-01, 9.11382201e-01, 9.11748056e-01, 9.14116125e-01,\n",
       "        9.14180273e-01, 9.15920001e-01, 9.17482223e-01, 9.17516064e-01,\n",
       "        9.18459730e-01, 9.18528367e-01, 9.18664080e-01, 9.19933477e-01,\n",
       "        9.19957210e-01, 9.20010156e-01, 9.21186369e-01, 9.22529877e-01,\n",
       "        9.22912358e-01, 9.23234979e-01, 9.23313844e-01, 9.23622060e-01,\n",
       "        9.23848507e-01, 9.24473795e-01, 9.24969886e-01, 9.25380783e-01,\n",
       "        9.26338425e-01, 9.28277955e-01, 9.28603103e-01, 9.29409885e-01,\n",
       "        9.29621762e-01, 9.30132109e-01, 9.30216114e-01, 9.30343048e-01,\n",
       "        9.30609949e-01, 9.30823390e-01, 9.31088897e-01, 9.31587440e-01,\n",
       "        9.33930172e-01, 9.34429407e-01, 9.37017097e-01, 9.38419393e-01,\n",
       "        9.41445258e-01, 9.41925914e-01, 9.43195222e-01, 9.43284301e-01,\n",
       "        9.44812869e-01, 9.45618301e-01, 9.47392715e-01, 9.48240864e-01,\n",
       "        9.49563570e-01, 9.50926667e-01, 9.52596226e-01, 9.52919541e-01,\n",
       "        9.53237882e-01, 9.56003889e-01, 9.56453369e-01, 9.56526850e-01,\n",
       "        9.56742436e-01, 9.57727980e-01, 9.57781924e-01, 9.58533758e-01,\n",
       "        9.60129826e-01, 9.61019324e-01, 9.62270818e-01, 9.64240535e-01,\n",
       "        9.64529043e-01, 9.65432013e-01, 9.67022248e-01, 9.70389034e-01,\n",
       "        9.70848394e-01, 9.71556187e-01, 9.72135365e-01, 9.77428240e-01,\n",
       "        9.77437979e-01, 9.78395142e-01, 9.79568821e-01, 9.80838148e-01,\n",
       "        9.83710339e-01, 9.83725279e-01, 9.83818453e-01, 9.84775043e-01,\n",
       "        9.90530228e-01, 9.91660331e-01, 9.92363784e-01, 9.92494358e-01,\n",
       "        9.93007540e-01, 9.94801224e-01, 9.95255540e-01, 9.95258232e-01,\n",
       "        9.95633960e-01, 9.96003862e-01, 9.96555377e-01, 9.96999973e-01,\n",
       "        9.97278535e-01, 9.97409291e-01, 9.98548613e-01, 9.98964352e-01]),\n",
       " array([1, 1, 1, 1, 1, 1, 1, 1, 1, 1, 1, 1, 1, 1, 1, 1, 1, 1, 1, 1, 1, 1,\n",
       "        1, 1, 1, 1, 1, 1, 1, 1, 1, 1, 1, 1, 1, 1, 1, 1, 1, 1, 1, 1, 1, 1,\n",
       "        1, 1, 1, 1, 1, 1, 1, 1, 1, 1, 1, 1, 1, 1, 1, 1, 1, 1, 1, 1, 1, 1,\n",
       "        1, 1, 1, 1, 1, 1, 1, 1, 1, 1, 1, 1, 1, 1, 1, 1, 1, 1, 1, 1, 1, 1,\n",
       "        1, 1, 1, 1, 1, 1, 1, 1, 1, 1, 1, 1, 1, 1, 1, 1, 1, 1, 1, 1, 1, 1,\n",
       "        1, 1, 1, 1, 1, 1, 1, 1, 1, 1, 1, 1, 1, 1, 1, 1, 1, 1, 1, 1, 1, 1,\n",
       "        1, 1, 1, 1, 1, 1, 1, 1, 1, 1, 1, 1, 1, 1, 1, 1, 1, 1, 1, 1, 1, 1,\n",
       "        1, 1, 1, 1, 1, 1, 1, 1, 1, 1, 1, 1, 1, 1, 1, 1, 1, 1, 1, 1, 1, 1,\n",
       "        1, 1, 1, 1, 1, 1, 1, 1, 1, 1, 1, 1, 1, 1, 1, 1, 1, 1, 1, 1, 1, 1,\n",
       "        1, 1, 1, 1, 1, 1, 1, 1, 1, 1, 1, 1, 1, 1, 1, 1, 1, 1, 1, 1, 1, 1,\n",
       "        1, 1, 1, 1, 1, 1, 1, 1, 1, 1, 1, 1, 1, 1, 1, 1, 1, 1, 1, 1, 1, 1,\n",
       "        1, 1, 1, 1, 1, 1, 1, 1, 1, 1, 1, 1, 1, 1, 1, 1, 1, 1, 1, 1, 1, 1,\n",
       "        1, 1, 1, 1, 1, 1, 1, 1, 1, 1, 1, 1, 1, 1, 1, 1, 1, 1, 1, 1, 1, 1,\n",
       "        1, 1, 1, 1, 1, 1, 1, 1, 1, 1, 1, 1, 1, 1, 1, 1, 1, 1, 1, 1, 1, 1,\n",
       "        1, 1, 1, 1, 1, 1, 1, 1, 1, 1, 1, 1, 1, 1, 1, 1, 1, 1, 1, 1, 1, 1,\n",
       "        1, 1, 1, 1, 1, 1, 1, 1, 1, 1, 1, 1, 1, 1, 1, 1, 1, 1, 1, 1, 1, 1,\n",
       "        1, 1, 1, 1, 1, 1, 1, 1, 1, 1, 1, 1, 1, 1, 1, 1, 1, 1, 1, 1, 1, 1,\n",
       "        1, 1, 1, 1, 1, 1, 1, 1, 1, 1, 1, 1, 1, 1, 1, 1, 1, 1, 1, 1, 1, 1,\n",
       "        1, 1, 1, 1, 1, 1, 1, 1, 1, 1, 1, 1, 1, 1, 1, 1, 1, 1, 1, 1, 1, 1,\n",
       "        1, 1, 1, 1, 1, 1, 1, 1, 1, 1, 1, 1, 1, 1, 1, 1, 1, 1, 1, 1, 1, 1,\n",
       "        1, 1, 1, 1, 1, 1, 1, 1, 1, 1, 1, 1, 1, 1, 1, 1, 1, 1, 1, 1, 1, 1,\n",
       "        1, 1, 1, 1, 1, 1, 1, 1, 1, 1, 1, 1, 1, 1, 1, 1, 1, 1, 1, 1, 1, 1,\n",
       "        1, 1, 1, 1, 1, 1, 1, 1, 1, 1, 1, 1, 1, 1, 1, 1, 1, 1, 1, 1, 1, 1,\n",
       "        1, 1, 1, 1, 1, 1, 1, 1, 1, 1, 1, 1, 1, 1, 1, 1, 1, 1, 1, 1, 1, 1,\n",
       "        1, 1, 1, 1, 1, 1, 1, 1, 1, 1, 1, 1, 1, 1, 1, 1, 1, 1, 1, 1, 1, 1,\n",
       "        1, 1, 1, 1, 1, 1, 1, 1, 1, 1, 1, 1, 1, 1, 1, 1, 1, 1, 1, 1, 1, 1,\n",
       "        1, 1, 1, 1, 1, 1, 1, 1, 1, 1, 1, 1, 1, 1, 1, 1, 1, 1, 1, 1, 1, 1,\n",
       "        1, 1, 1, 1, 1, 1, 1, 1, 1, 1, 1, 1, 1, 1, 1, 1, 1, 1, 1, 1, 1, 1,\n",
       "        1, 1, 1, 1, 1, 1, 1, 1, 1, 1, 1, 1, 1, 1, 1, 1, 1, 1, 1, 1, 1, 1,\n",
       "        1, 1, 1, 1, 1, 1, 1, 1, 1, 1, 1, 1, 1, 1, 1, 1, 1, 1, 1, 1, 1, 1,\n",
       "        1, 1, 1, 1, 1, 1, 1, 1, 1, 1, 1, 1, 1, 1, 1, 1, 1, 1, 1, 1, 1, 1,\n",
       "        1, 1, 1, 1, 1, 1, 1, 1, 1, 1, 1, 1, 1, 1, 1, 1, 1, 1, 1, 1, 1, 1,\n",
       "        1, 1, 1, 1, 1, 1, 1, 1, 1, 1, 1, 1, 1, 1, 1, 1, 1, 1, 1, 1, 1, 1,\n",
       "        1, 1, 1, 1, 1, 1, 1, 1, 1, 1, 1, 1, 1, 1, 1, 1, 1, 1, 1, 1, 1, 1,\n",
       "        1, 1, 1, 1, 1, 1, 1, 1, 1, 1, 1, 1, 1, 1, 1, 1, 1, 1, 1, 1, 1, 1,\n",
       "        1, 1, 1, 1, 1, 1, 1, 1, 1, 1, 1, 1, 1, 1, 1, 1, 1, 1, 1, 1, 1, 1,\n",
       "        1, 1, 1, 1, 1, 1, 1, 1, 1, 1, 1, 1, 1, 1, 1, 1, 1, 1, 1, 1, 1, 1,\n",
       "        1, 1, 1, 1, 1, 1, 1, 1, 1, 1, 1, 1, 1, 1, 1, 1, 1, 1, 1, 1, 1, 1,\n",
       "        1, 1, 1, 1, 1, 1, 1, 1, 1, 1, 1, 1, 1, 1, 1, 1, 1, 1, 1, 1, 1, 1,\n",
       "        1, 1, 1, 1, 1, 1, 1, 1, 1, 1, 1, 1, 1, 1, 1, 1, 1, 1, 1, 1, 1, 1,\n",
       "        1, 1, 1, 1, 1, 1, 1, 1, 1, 1, 1, 1, 1, 1, 1, 1, 1, 1, 1, 1, 1, 1,\n",
       "        1, 1, 1, 1, 1, 1, 1, 1, 1, 1, 1, 1, 1, 1, 1, 1, 1, 1, 1, 1, 1, 1,\n",
       "        1, 1, 1, 1, 1, 1, 1, 1, 1, 1, 1, 1, 1, 1, 1, 1, 1, 1, 1, 1, 1, 1,\n",
       "        1, 1, 1, 1, 1, 1, 1, 1, 1, 1, 1, 1, 1, 1, 1, 1, 1, 1, 1, 1, 1, 1,\n",
       "        1, 1, 1, 1, 1, 1, 1, 1, 1, 1, 1, 1, 1, 1, 1, 1, 1, 1, 1, 1, 1, 1,\n",
       "        1, 1, 1, 1, 1, 1, 1, 1, 1, 1], dtype=int64))"
      ]
     },
     "execution_count": 27,
     "metadata": {},
     "output_type": "execute_result"
    }
   ],
   "source": [
    "np.unique(dados_uniform, return_counts = True) # Observa-se que só existe um dado para cada valor, os valores não repete"
   ]
  },
  {
   "cell_type": "code",
   "execution_count": 28,
   "id": "bc10ad0a",
   "metadata": {},
   "outputs": [
    {
     "data": {
      "text/plain": [
       "(1997, 5)"
      ]
     },
     "execution_count": 28,
     "metadata": {},
     "output_type": "execute_result"
    }
   ],
   "source": [
    "dataset = pd.read_csv('credit_data.csv')\n",
    "dataset.dropna(inplace=True)\n",
    "dataset.shape"
   ]
  },
  {
   "cell_type": "code",
   "execution_count": 29,
   "id": "305ce9b6",
   "metadata": {},
   "outputs": [],
   "source": [
    "X = dataset.iloc[:, 1:4].values\n",
    "y = dataset.iloc[:, 4].values"
   ]
  },
  {
   "cell_type": "code",
   "execution_count": 30,
   "id": "b2cb7824",
   "metadata": {},
   "outputs": [],
   "source": [
    "from sklearn.naive_bayes import GaussianNB\n",
    "from sklearn.metrics import accuracy_score\n",
    "from sklearn.model_selection import train_test_split"
   ]
  },
  {
   "cell_type": "code",
   "execution_count": 33,
   "id": "1dea0bb4",
   "metadata": {},
   "outputs": [],
   "source": [
    "resultados_naive_bayes = []\n",
    "\n",
    "for i in range(30):\n",
    "    X_treinamento, X_teste, y_treinamento, y_teste = train_test_split(X, y, test_size=0.2, stratify=y, random_state=i)\n",
    "    \n",
    "    naive_bayes = GaussianNB()\n",
    "    naive_bayes.fit(X_treinamento, y_treinamento)\n",
    "    resultados_naive_bayes.append(accuracy_score(y_teste, naive_bayes.predict(X_teste)))"
   ]
  },
  {
   "cell_type": "code",
   "execution_count": 34,
   "id": "aece5c1b",
   "metadata": {},
   "outputs": [
    {
     "name": "stdout",
     "output_type": "stream",
     "text": [
      "[0.925, 0.925, 0.9325, 0.925, 0.92, 0.905, 0.9175, 0.9175, 0.9125, 0.9325, 0.9225, 0.9125, 0.935, 0.9175, 0.925, 0.9175, 0.9275, 0.92, 0.9325, 0.92, 0.93, 0.905, 0.9175, 0.9325, 0.9425, 0.9375, 0.94, 0.92, 0.935, 0.925]\n"
     ]
    }
   ],
   "source": [
    "print(resultados_naive_bayes)"
   ]
  },
  {
   "cell_type": "markdown",
   "id": "74467f5a",
   "metadata": {},
   "source": [
    "Lista com os 30 resultados que podem ser avaliados. "
   ]
  },
  {
   "cell_type": "code",
   "execution_count": 37,
   "id": "633e1b27",
   "metadata": {},
   "outputs": [
    {
     "name": "stderr",
     "output_type": "stream",
     "text": [
      "C:\\Users\\Francisco\\anaconda3\\lib\\site-packages\\seaborn\\distributions.py:2557: FutureWarning: `distplot` is a deprecated function and will be removed in a future version. Please adapt your code to use either `displot` (a figure-level function with similar flexibility) or `histplot` (an axes-level function for histograms).\n",
      "  warnings.warn(msg, FutureWarning)\n"
     ]
    },
    {
     "data": {
      "text/plain": [
       "<AxesSubplot:ylabel='Density'>"
      ]
     },
     "execution_count": 37,
     "metadata": {},
     "output_type": "execute_result"
    },
    {
     "data": {
      "image/png": "[encoded data removed]",
      "text/plain": [
       "<Figure size 432x288 with 1 Axes>"
      ]
     },
     "metadata": {
      "needs_background": "light"
     },
     "output_type": "display_data"
    }
   ],
   "source": [
    "sns.distplot(resultados_naive_bayes, bins = 10) # Indica uma distribuição próximo a uniforme "
   ]
  },
  {
   "cell_type": "markdown",
   "id": "127b7520",
   "metadata": {},
   "source": [
    "Isso indica que, alguns resultados de algoritmos de machine learning pode perceber uma distribuição uniforme. Mas é importante ressaltar que depende também da variância."
   ]
  },
  {
   "cell_type": "markdown",
   "id": "c288dc0d",
   "metadata": {},
   "source": [
    "# Variáveis discretas"
   ]
  },
  {
   "cell_type": "markdown",
   "id": "9a336084",
   "metadata": {},
   "source": [
    "## Distribuição de Bernoulli "
   ]
  },
  {
   "cell_type": "markdown",
   "id": "2253e900",
   "metadata": {},
   "source": [
    "- Tipo específico da distribuição binomial\n",
    "- Possui somente duas respostas: Sucesso ou fracasso "
   ]
  },
  {
   "cell_type": "code",
   "execution_count": 38,
   "id": "fa09ff2b",
   "metadata": {},
   "outputs": [],
   "source": [
    "from scipy.stats import bernoulli"
   ]
  },
  {
   "cell_type": "code",
   "execution_count": 47,
   "id": "4c4cf547",
   "metadata": {},
   "outputs": [],
   "source": [
    "dados_bernoulli = bernoulli.rvs(size = 1000, p = 0.6) # p é o valor da probabilidade, de sucesso ou fracasso, então no caso vai ser 50% de sucesso"
   ]
  },
  {
   "cell_type": "code",
   "execution_count": 48,
   "id": "76f938ef",
   "metadata": {},
   "outputs": [
    {
     "data": {
      "text/plain": [
       "array([0, 0, 1, 0, 1, 1, 0, 1, 1, 1, 1, 1, 1, 1, 0, 1, 1, 0, 0, 1, 1, 1,\n",
       "       0, 1, 1, 0, 0, 0, 0, 1, 0, 0, 1, 1, 1, 0, 1, 1, 1, 0, 1, 1, 1, 0,\n",
       "       0, 0, 1, 1, 0, 1, 0, 0, 0, 1, 1, 1, 0, 0, 0, 1, 1, 0, 1, 0, 0, 0,\n",
       "       1, 1, 0, 0, 1, 0, 1, 1, 1, 1, 0, 0, 1, 1, 0, 0, 0, 1, 1, 0, 0, 1,\n",
       "       1, 0, 1, 1, 1, 1, 1, 1, 1, 1, 0, 1, 0, 1, 1, 1, 0, 1, 1, 1, 0, 0,\n",
       "       1, 0, 0, 0, 1, 0, 0, 0, 1, 1, 0, 1, 1, 1, 0, 1, 0, 1, 0, 0, 1, 0,\n",
       "       1, 0, 0, 1, 0, 0, 0, 0, 0, 1, 1, 1, 0, 0, 1, 0, 1, 1, 1, 0, 1, 1,\n",
       "       1, 0, 1, 1, 0, 0, 1, 1, 1, 1, 1, 1, 1, 1, 1, 1, 1, 0, 1, 0, 0, 0,\n",
       "       0, 1, 1, 0, 0, 0, 1, 0, 1, 0, 1, 1, 1, 0, 1, 1, 0, 1, 1, 0, 0, 1,\n",
       "       1, 1, 1, 1, 1, 1, 1, 1, 1, 1, 1, 0, 1, 0, 0, 1, 1, 0, 0, 0, 1, 1,\n",
       "       1, 0, 1, 0, 0, 1, 1, 1, 1, 1, 1, 1, 1, 0, 0, 1, 0, 0, 0, 1, 0, 0,\n",
       "       1, 1, 1, 1, 1, 1, 1, 1, 1, 1, 1, 1, 1, 1, 1, 1, 0, 1, 1, 1, 0, 0,\n",
       "       0, 0, 1, 1, 1, 0, 1, 1, 1, 1, 1, 1, 0, 1, 1, 1, 1, 1, 0, 1, 0, 0,\n",
       "       1, 1, 0, 1, 1, 1, 1, 1, 0, 0, 1, 0, 1, 0, 1, 0, 1, 1, 0, 0, 0, 0,\n",
       "       0, 1, 1, 1, 1, 1, 1, 1, 0, 1, 1, 1, 0, 1, 1, 0, 0, 1, 1, 0, 1, 1,\n",
       "       0, 0, 1, 1, 1, 0, 1, 1, 0, 0, 1, 1, 0, 1, 1, 1, 1, 0, 0, 1, 1, 0,\n",
       "       0, 0, 0, 0, 0, 1, 0, 0, 0, 0, 1, 0, 0, 1, 0, 0, 1, 1, 1, 1, 1, 0,\n",
       "       1, 1, 1, 0, 1, 1, 1, 1, 1, 1, 0, 1, 0, 1, 0, 0, 1, 1, 1, 1, 1, 0,\n",
       "       1, 1, 1, 0, 1, 1, 1, 1, 0, 0, 0, 0, 1, 1, 1, 1, 1, 1, 1, 0, 1, 1,\n",
       "       1, 1, 0, 1, 0, 0, 1, 1, 0, 0, 1, 1, 1, 1, 1, 0, 1, 1, 1, 0, 1, 0,\n",
       "       0, 1, 1, 1, 1, 1, 1, 1, 1, 1, 1, 0, 1, 0, 0, 0, 1, 0, 1, 1, 1, 0,\n",
       "       0, 1, 0, 1, 0, 1, 0, 1, 0, 1, 0, 0, 0, 0, 1, 1, 0, 1, 0, 0, 1, 1,\n",
       "       1, 0, 0, 0, 1, 0, 1, 1, 1, 1, 0, 0, 0, 1, 1, 0, 0, 1, 0, 1, 0, 1,\n",
       "       1, 1, 0, 1, 0, 1, 1, 0, 1, 1, 1, 0, 1, 1, 0, 1, 0, 0, 0, 1, 0, 1,\n",
       "       0, 1, 0, 1, 0, 0, 0, 1, 1, 0, 1, 1, 0, 1, 1, 1, 0, 0, 0, 1, 0, 0,\n",
       "       0, 1, 1, 1, 1, 0, 1, 1, 1, 1, 0, 1, 1, 1, 0, 0, 0, 1, 1, 0, 0, 1,\n",
       "       1, 0, 1, 1, 1, 1, 1, 0, 0, 1, 1, 0, 0, 0, 1, 1, 1, 1, 1, 0, 1, 1,\n",
       "       0, 0, 0, 1, 1, 0, 0, 1, 1, 1, 1, 1, 0, 1, 0, 0, 1, 1, 0, 0, 1, 1,\n",
       "       1, 1, 0, 0, 0, 0, 1, 1, 0, 0, 1, 0, 1, 0, 1, 0, 1, 1, 0, 1, 1, 0,\n",
       "       1, 1, 0, 1, 0, 1, 0, 0, 0, 0, 1, 0, 0, 1, 0, 0, 1, 1, 1, 0, 0, 0,\n",
       "       0, 0, 1, 0, 1, 1, 1, 0, 1, 0, 0, 0, 1, 1, 1, 1, 1, 1, 1, 0, 0, 0,\n",
       "       1, 0, 0, 1, 0, 1, 0, 0, 1, 1, 1, 1, 1, 0, 0, 0, 1, 0, 1, 1, 1, 0,\n",
       "       1, 0, 0, 1, 1, 0, 1, 1, 1, 0, 0, 1, 1, 0, 1, 0, 1, 1, 1, 0, 1, 1,\n",
       "       0, 1, 0, 0, 1, 1, 1, 1, 1, 0, 1, 0, 0, 1, 1, 0, 0, 0, 1, 1, 0, 0,\n",
       "       1, 0, 0, 0, 1, 1, 1, 0, 0, 0, 1, 1, 1, 1, 1, 0, 1, 1, 0, 1, 0, 1,\n",
       "       0, 1, 0, 0, 1, 1, 0, 1, 1, 1, 1, 0, 0, 1, 1, 1, 0, 1, 1, 0, 1, 1,\n",
       "       0, 0, 0, 0, 1, 0, 0, 0, 0, 0, 0, 1, 1, 1, 0, 1, 1, 0, 1, 0, 1, 1,\n",
       "       0, 0, 0, 0, 0, 1, 0, 1, 1, 1, 0, 1, 1, 1, 1, 1, 1, 0, 0, 0, 0, 1,\n",
       "       1, 1, 0, 0, 0, 1, 1, 0, 1, 1, 1, 1, 1, 1, 1, 1, 0, 0, 1, 0, 1, 1,\n",
       "       1, 1, 1, 0, 1, 1, 1, 1, 0, 1, 1, 1, 1, 1, 0, 1, 0, 0, 1, 1, 0, 0,\n",
       "       0, 0, 0, 1, 1, 1, 0, 1, 0, 1, 1, 0, 0, 1, 0, 1, 1, 0, 0, 0, 0, 1,\n",
       "       0, 1, 1, 0, 0, 1, 1, 0, 1, 1, 1, 1, 1, 1, 1, 1, 0, 0, 0, 0, 1, 1,\n",
       "       1, 1, 1, 1, 1, 0, 1, 1, 1, 0, 1, 0, 1, 1, 1, 0, 0, 0, 1, 0, 0, 1,\n",
       "       0, 1, 1, 1, 0, 1, 1, 1, 0, 0, 1, 0, 0, 1, 0, 1, 0, 0, 1, 0, 1, 1,\n",
       "       1, 1, 0, 0, 0, 0, 0, 1, 1, 0, 1, 0, 1, 1, 1, 0, 0, 0, 1, 1, 1, 0,\n",
       "       1, 0, 0, 0, 1, 0, 1, 1, 1, 1])"
      ]
     },
     "execution_count": 48,
     "metadata": {},
     "output_type": "execute_result"
    }
   ],
   "source": [
    "dados_bernoulli"
   ]
  },
  {
   "cell_type": "code",
   "execution_count": 49,
   "id": "f7f0dd62",
   "metadata": {},
   "outputs": [
    {
     "data": {
      "text/plain": [
       "(array([0, 1]), array([418, 582], dtype=int64))"
      ]
     },
     "execution_count": 49,
     "metadata": {},
     "output_type": "execute_result"
    }
   ],
   "source": [
    "np.unique(dados_bernoulli, return_counts=True) # Observando a distribuição dos dados 1 e 0, que é 50%"
   ]
  },
  {
   "cell_type": "code",
   "execution_count": 50,
   "id": "2b044929",
   "metadata": {},
   "outputs": [
    {
     "data": {
      "text/plain": [
       "<AxesSubplot:>"
      ]
     },
     "execution_count": 50,
     "metadata": {},
     "output_type": "execute_result"
    },
    {
     "data": {
      "image/png": "[encoded data removed]",
      "text/plain": [
       "<Figure size 432x288 with 1 Axes>"
      ]
     },
     "metadata": {
      "needs_background": "light"
     },
     "output_type": "display_data"
    }
   ],
   "source": [
    "sns.distplot(dados_bernoulli, kde=False)"
   ]
  },
  {
   "cell_type": "markdown",
   "id": "181036e6",
   "metadata": {},
   "source": [
    "## Distribuição binomial"
   ]
  },
  {
   "cell_type": "markdown",
   "id": "e0da628b",
   "metadata": {},
   "source": [
    "- Somente duas possibilidades (sucesso ou falha)\n",
    "- Probabilidade de sucesso ou falha"
   ]
  },
  {
   "cell_type": "markdown",
   "id": "0ea633cb",
   "metadata": {},
   "source": [
    "A diferença para a bernoulli é, que é 0 ou 1. Na binomial pode ter +2 características"
   ]
  },
  {
   "cell_type": "code",
   "execution_count": 51,
   "id": "ac7c825b",
   "metadata": {},
   "outputs": [],
   "source": [
    "from scipy.stats import binom"
   ]
  },
  {
   "cell_type": "code",
   "execution_count": 61,
   "id": "c49b53f2",
   "metadata": {},
   "outputs": [],
   "source": [
    "dados_binomial = binom.rvs(size = 1000, n = 10, p = 0.8) # n quantidade de variaveis e p é a probabilidade de sucesso"
   ]
  },
  {
   "cell_type": "code",
   "execution_count": 62,
   "id": "4578cad3",
   "metadata": {},
   "outputs": [
    {
     "name": "stdout",
     "output_type": "stream",
     "text": [
      "[ 6 10 10  7  8  8  8  7  9  6  7  7  6  5  8  9  7  7  7  8  8  7  8  9\n",
      "  9  9  5  8  5  9  8  9  7  8  7  6  8 10  7  9  8  8  8  6  7  8  8  8\n",
      "  8  9  7  8  5 10 10 10 10 10  7  8  9  8 10  9  9  9  8  8  8  7  7  9\n",
      "  7  8  8 10  9  8 10  9  7  8  8 10  8  9  8  9  7  8  7  9  7  9  6  7\n",
      "  9  7  7  8  8  7 10  9  7  7  9  7  9  6  9  9  8  6  8 10  6  7  7  8\n",
      "  8 10 10  7  6  7  6  8  8  8  9  9  6  8  6  9  8  7  8  7  8  8  9  9\n",
      "  9  8  6  9  7  9  7 10  7  8  8  8  7  8  8  8 10  9  7  7  8  7  8  9\n",
      "  9  8  7  6  8  8  9  6  8  8  8  5  8  9  9 10  7  7  7  7  5  9  7  7\n",
      "  8  8  8  6  8  8  9  9  7  7  9  9  8  8  9  7  5 10  6  9  7  8  9  9\n",
      " 10  8 10  9  9  7  9  6  6  7  7  9  6  8  7  5  8  8  7  9  8  8  8  8\n",
      "  8  8  7  9  8  6  8  6  7  7  6  9  8  7  9  6  7  9  9  7  6  5  8  6\n",
      "  9  9  9  7  8  6  7  8  7  9  6  9  5  9 10  7 10 10  7 10  6  9 10  6\n",
      " 10  8  7  7  5  9  7  5 10  9  7  9  7  8  8  9  8  8  8  5  6  8  8  7\n",
      "  8  6 10  7  9 10  6  8  5 10  6  8  8  8  8  7  8  8 10  8  6  8  8  9\n",
      "  9  7  7  7  8  7 10  8  8  8  5  9  8  9  8  8  8  7  6  9  7  7  9 10\n",
      " 10  8  9 10  8  9  6  8  8  8  6 10 10  9  7  9 10  9  7  8  8  4  7  7\n",
      "  8  6  8  7  9  9  8  7  6  8  7  8 10  6  9 10  7  9  8  9  8  8  9  7\n",
      " 10  7  8  7  7  7  7  9  7  8  8  6  5  9  9  8  7  7  9  8  9  7  8  8\n",
      " 10  9  8  8  8  8  7  9  7  7  8 10 10  7  9 10  8  9  9 10  6  9  8  7\n",
      "  9  9  8  8  8  6  9  9  7  9  7  8  8  9  8  7  9  9  9  8  6  9  8  7\n",
      "  3  8  9  8  6  9  8  9  5 10  4  9  9 10  8  7  8  7  7 10  8 10 10  8\n",
      "  7  8  9 10  7  7 10  8  8  6  9  8  8  8 10  8  8 10  8  9  6  8  8  8\n",
      "  9  9  7  8  8  8  7  8  9  9  7 10  8  8  6  5  8  8  8  6 10  8  7  6\n",
      "  9  6  9  7  6  8  9  8  7  9  7  7  7 10  6  9 10  8  6  7  9  7  8 10\n",
      "  8  6  7  8 10  7  9  8  8  9 10  9  9  8 10  8  8  7  7  8 10  7  9  7\n",
      "  8  6  8  9  9 10  8  9  7  7  7  6  9  7  8 10  9  7  9  9  5  8  9  8\n",
      "  8  6  8  5  7  8  9  9  9  8  9  7  8  9  8  6  8  9  9  9 10  7  9  8\n",
      "  7  8  7  9  7  8  5 10  9  8  8  9  7  8  9  7  9  9  7  8  5  6  9 10\n",
      "  8  8  9 10 10  8  9  8  8  9 10  9  9  9  9  7  7 10  8  8  9  7  8  7\n",
      "  7  9 10  9  9  8  7 10  9  9  9  8  9  6  6 10  8  7 10  8 10  9  9  9\n",
      "  9  9  8  8  9  9  8  8  8  7  7  9 10  8  8  7 10  6  9  9  9  9  7 10\n",
      "  7  8  9 10 10  9  7  6  8  6  5  8  8  8 10  7  9  7  9  9  7  9 10  8\n",
      "  8 10  9  9  5  9 10  8  7  8  8  7  7 10  8  9  8  7  7  6  7  9  8  8\n",
      "  9  9  8  7  5  8  9  6  8  8  9  6  8  7  7 10  7  6  7 10 10  6 10  8\n",
      "  7  9  9 10 10 10  9  7  9  7  8  7  8  8  9  8  8  5  6 10  9  6  8  9\n",
      "  8  6  7  8  7  8  7  8  7  8  9  8  6  6  8  6  7 10  9  7  6  6  8  8\n",
      "  8 10  8  8  6  8 10  6  8  8  7  9 10  6  8  8  9  6  7  8  8  8  7  8\n",
      "  7  9  7  9  7  7  7  8 10  8  8  7  8  9 10  7  8  8  8  6  8  8  8  9\n",
      "  8  9  8  8  8  7  9  8  8  6  6  8  6  9  8  7  6  8  8  7  6  7 10  9\n",
      " 10  8  7 10  7  8  8  9  7  8  8  7  6  7  8  8  9  7  7  7  8  8  8  8\n",
      "  9  9  7  9  7  7  8  9  8  7  7  8 10  9  7  8  9  7  8  9  9  8  9 10\n",
      "  7  7 10  8  7  7  7 10  7  7  9  8  8  8  8  8]\n"
     ]
    }
   ],
   "source": [
    "print(dados_binomial)"
   ]
  },
  {
   "cell_type": "code",
   "execution_count": 63,
   "id": "2bd7624d",
   "metadata": {},
   "outputs": [
    {
     "data": {
      "text/plain": [
       "(array([ 3,  4,  5,  6,  7,  8,  9, 10]),\n",
       " array([  1,   2,  26,  91, 220, 320, 229, 111], dtype=int64))"
      ]
     },
     "execution_count": 63,
     "metadata": {},
     "output_type": "execute_result"
    }
   ],
   "source": [
    "np.unique(dados_binomial, return_counts=True)"
   ]
  },
  {
   "cell_type": "code",
   "execution_count": 64,
   "id": "50d9f1c2",
   "metadata": {},
   "outputs": [
    {
     "data": {
      "text/plain": [
       "<AxesSubplot:ylabel='Density'>"
      ]
     },
     "execution_count": 64,
     "metadata": {},
     "output_type": "execute_result"
    },
    {
     "data": {
      "image/png": "[encoded data removed]",
      "text/plain": [
       "<Figure size 432x288 with 1 Axes>"
      ]
     },
     "metadata": {
      "needs_background": "light"
     },
     "output_type": "display_data"
    }
   ],
   "source": [
    "sns.distplot(dados_binomial)"
   ]
  },
  {
   "cell_type": "markdown",
   "id": "420b58c8",
   "metadata": {},
   "source": [
    "Dá para perceber a quantidade de dados disponíveis para cada classe. Dessa forma, a probabilidade para cada classe."
   ]
  },
  {
   "cell_type": "markdown",
   "id": "51500b46",
   "metadata": {},
   "source": [
    "# Distribuição de Poisson"
   ]
  },
  {
   "cell_type": "markdown",
   "id": "7b18aad2",
   "metadata": {},
   "source": [
    "- Número de vezes que um evento aconteceu em um intervalo de tempo\n",
    "- Exemplo: Número de usuários que visitaram um website em um intervalo\n",
    "- Quantidade de vezes que um evento aconteceu nesse intervalo (número de ligações em um call center)"
   ]
  },
  {
   "cell_type": "code",
   "execution_count": 65,
   "id": "9d7140ed",
   "metadata": {},
   "outputs": [],
   "source": [
    "from scipy.stats import poisson"
   ]
  },
  {
   "cell_type": "code",
   "execution_count": 71,
   "id": "fbe7c8b1",
   "metadata": {},
   "outputs": [],
   "source": [
    "dados_poisson = poisson.rvs(size = 1000, mu = 5)"
   ]
  },
  {
   "cell_type": "code",
   "execution_count": 72,
   "id": "5b4efe5f",
   "metadata": {},
   "outputs": [
    {
     "data": {
      "text/plain": [
       "(0, 15)"
      ]
     },
     "execution_count": 72,
     "metadata": {},
     "output_type": "execute_result"
    }
   ],
   "source": [
    "min(dados_poisson), max(dados_poisson) # Números discretos"
   ]
  },
  {
   "cell_type": "code",
   "execution_count": 74,
   "id": "514d17d1",
   "metadata": {},
   "outputs": [
    {
     "data": {
      "text/plain": [
       "(array([ 0,  1,  2,  3,  4,  5,  6,  7,  8,  9, 10, 11, 12, 13, 15]),\n",
       " array([  5,  33, 104, 137, 163, 168, 157,  98,  69,  39,  16,   6,   3,\n",
       "          1,   1], dtype=int64))"
      ]
     },
     "execution_count": 74,
     "metadata": {},
     "output_type": "execute_result"
    }
   ],
   "source": [
    "np.unique(dados_poisson, return_counts=True) # Contagem dos elementos e a quantidade que está distribuida"
   ]
  },
  {
   "cell_type": "code",
   "execution_count": 75,
   "id": "f4422238",
   "metadata": {},
   "outputs": [
    {
     "name": "stderr",
     "output_type": "stream",
     "text": [
      "C:\\Users\\Francisco\\anaconda3\\lib\\site-packages\\seaborn\\distributions.py:2557: FutureWarning: `distplot` is a deprecated function and will be removed in a future version. Please adapt your code to use either `displot` (a figure-level function with similar flexibility) or `histplot` (an axes-level function for histograms).\n",
      "  warnings.warn(msg, FutureWarning)\n"
     ]
    },
    {
     "data": {
      "text/plain": [
       "<AxesSubplot:ylabel='Density'>"
      ]
     },
     "execution_count": 75,
     "metadata": {},
     "output_type": "execute_result"
    },
    {
     "data": {
      "image/png": "[encoded data removed]",
      "text/plain": [
       "<Figure size 432x288 with 1 Axes>"
      ]
     },
     "metadata": {
      "needs_background": "light"
     },
     "output_type": "display_data"
    }
   ],
   "source": [
    "sns.distplot(dados_poisson)"
   ]
  },
  {
   "cell_type": "markdown",
   "id": "7ba2a12b",
   "metadata": {},
   "source": [
    "Percebe-se que os dados estão mais agrupados ao centro."
   ]
  },
  {
   "cell_type": "code",
   "execution_count": null,
   "id": "4475e02d",
   "metadata": {},
   "outputs": [],
   "source": []
  }
 ],
 "metadata": {
  "kernelspec": {
   "display_name": "Python 3",
   "language": "python",
   "name": "python3"
  },
  "language_info": {
   "codemirror_mode": {
    "name": "ipython",
    "version": 3
   },
   "file_extension": ".py",
   "mimetype": "text/x-python",
   "name": "python",
   "nbconvert_exporter": "python",
   "pygments_lexer": "ipython3",
   "version": "3.8.8"
  }
 },
 "nbformat": 4,
 "nbformat_minor": 5
}
